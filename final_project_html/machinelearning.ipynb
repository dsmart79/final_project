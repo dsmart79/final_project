{
 "cells": [
  {
   "cell_type": "code",
   "execution_count": 1,
   "metadata": {},
   "outputs": [],
   "source": [
    "from numpy.random import seed\n",
    "seed(1)\n"
   ]
  },
  {
   "cell_type": "code",
   "execution_count": 2,
   "metadata": {},
   "outputs": [],
   "source": [
    "import pandas as pd\n"
   ]
  },
  {
   "cell_type": "code",
   "execution_count": 3,
   "metadata": {},
   "outputs": [],
   "source": [
    "csv_path = \"final-data.csv\"\n",
    "weather_df = pd.read_csv(csv_path)"
   ]
  },
  {
   "cell_type": "code",
   "execution_count": 4,
   "metadata": {},
   "outputs": [
    {
     "data": {
      "text/plain": [
       "Unnamed: 0                int64\n",
       "name                     object\n",
       "state                    object\n",
       "lat                     float64\n",
       "lon                     float64\n",
       "year                      int64\n",
       "mo                        int64\n",
       "da                        int64\n",
       "temp                    float64\n",
       "max                     float64\n",
       "min                     float64\n",
       "rain_drizzle              int64\n",
       "snow_ice_pellets          int64\n",
       "hail                      int64\n",
       "thunder                   int64\n",
       "tornado_funnel_cloud      int64\n",
       "dtype: object"
      ]
     },
     "execution_count": 4,
     "metadata": {},
     "output_type": "execute_result"
    }
   ],
   "source": [
    "weather_df.dtypes\n"
   ]
  },
  {
   "cell_type": "code",
   "execution_count": 6,
   "metadata": {},
   "outputs": [
    {
     "data": {
      "text/html": [
       "<div>\n",
       "<style scoped>\n",
       "    .dataframe tbody tr th:only-of-type {\n",
       "        vertical-align: middle;\n",
       "    }\n",
       "\n",
       "    .dataframe tbody tr th {\n",
       "        vertical-align: top;\n",
       "    }\n",
       "\n",
       "    .dataframe thead th {\n",
       "        text-align: right;\n",
       "    }\n",
       "</style>\n",
       "<table border=\"1\" class=\"dataframe\">\n",
       "  <thead>\n",
       "    <tr style=\"text-align: right;\">\n",
       "      <th></th>\n",
       "      <th>Unnamed: 0</th>\n",
       "      <th>lat</th>\n",
       "      <th>lon</th>\n",
       "      <th>year</th>\n",
       "      <th>mo</th>\n",
       "      <th>da</th>\n",
       "      <th>temp</th>\n",
       "      <th>max</th>\n",
       "      <th>min</th>\n",
       "      <th>rain_drizzle</th>\n",
       "      <th>snow_ice_pellets</th>\n",
       "      <th>hail</th>\n",
       "      <th>thunder</th>\n",
       "      <th>tornado_funnel_cloud</th>\n",
       "    </tr>\n",
       "  </thead>\n",
       "  <tbody>\n",
       "    <tr>\n",
       "      <th>count</th>\n",
       "      <td>8.205291e+06</td>\n",
       "      <td>8.205291e+06</td>\n",
       "      <td>8.205291e+06</td>\n",
       "      <td>8.205291e+06</td>\n",
       "      <td>8.205291e+06</td>\n",
       "      <td>8.205291e+06</td>\n",
       "      <td>8.205291e+06</td>\n",
       "      <td>8.205291e+06</td>\n",
       "      <td>8.205291e+06</td>\n",
       "      <td>8.205291e+06</td>\n",
       "      <td>8.205291e+06</td>\n",
       "      <td>8.205291e+06</td>\n",
       "      <td>8.205291e+06</td>\n",
       "      <td>8.205291e+06</td>\n",
       "    </tr>\n",
       "    <tr>\n",
       "      <th>mean</th>\n",
       "      <td>4.102645e+06</td>\n",
       "      <td>3.584556e+01</td>\n",
       "      <td>-9.266935e+01</td>\n",
       "      <td>2.007174e+03</td>\n",
       "      <td>6.466509e+00</td>\n",
       "      <td>1.571847e+01</td>\n",
       "      <td>6.045276e+01</td>\n",
       "      <td>7.825339e+01</td>\n",
       "      <td>5.464965e+01</td>\n",
       "      <td>2.919176e-01</td>\n",
       "      <td>5.505082e-02</td>\n",
       "      <td>7.112484e-04</td>\n",
       "      <td>8.095715e-02</td>\n",
       "      <td>3.082158e-04</td>\n",
       "    </tr>\n",
       "    <tr>\n",
       "      <th>std</th>\n",
       "      <td>2.368664e+06</td>\n",
       "      <td>5.142237e+00</td>\n",
       "      <td>1.492755e+01</td>\n",
       "      <td>8.428364e+00</td>\n",
       "      <td>3.432474e+00</td>\n",
       "      <td>8.794953e+00</td>\n",
       "      <td>1.745844e+01</td>\n",
       "      <td>2.508801e+02</td>\n",
       "      <td>2.031281e+02</td>\n",
       "      <td>4.546446e-01</td>\n",
       "      <td>2.280794e-01</td>\n",
       "      <td>2.665976e-02</td>\n",
       "      <td>2.727693e-01</td>\n",
       "      <td>1.755337e-02</td>\n",
       "    </tr>\n",
       "    <tr>\n",
       "      <th>min</th>\n",
       "      <td>0.000000e+00</td>\n",
       "      <td>2.455500e+01</td>\n",
       "      <td>-1.242370e+02</td>\n",
       "      <td>1.990000e+03</td>\n",
       "      <td>1.000000e+00</td>\n",
       "      <td>1.000000e+00</td>\n",
       "      <td>-4.920000e+01</td>\n",
       "      <td>-1.410000e+01</td>\n",
       "      <td>-4.310000e+01</td>\n",
       "      <td>0.000000e+00</td>\n",
       "      <td>0.000000e+00</td>\n",
       "      <td>0.000000e+00</td>\n",
       "      <td>0.000000e+00</td>\n",
       "      <td>0.000000e+00</td>\n",
       "    </tr>\n",
       "    <tr>\n",
       "      <th>25%</th>\n",
       "      <td>2.051322e+06</td>\n",
       "      <td>3.181100e+01</td>\n",
       "      <td>-9.921800e+01</td>\n",
       "      <td>2.001000e+03</td>\n",
       "      <td>3.000000e+00</td>\n",
       "      <td>8.000000e+00</td>\n",
       "      <td>4.920000e+01</td>\n",
       "      <td>6.100000e+01</td>\n",
       "      <td>3.790000e+01</td>\n",
       "      <td>0.000000e+00</td>\n",
       "      <td>0.000000e+00</td>\n",
       "      <td>0.000000e+00</td>\n",
       "      <td>0.000000e+00</td>\n",
       "      <td>0.000000e+00</td>\n",
       "    </tr>\n",
       "    <tr>\n",
       "      <th>50%</th>\n",
       "      <td>4.102645e+06</td>\n",
       "      <td>3.539000e+01</td>\n",
       "      <td>-8.731700e+01</td>\n",
       "      <td>2.009000e+03</td>\n",
       "      <td>6.000000e+00</td>\n",
       "      <td>1.600000e+01</td>\n",
       "      <td>6.290000e+01</td>\n",
       "      <td>7.500000e+01</td>\n",
       "      <td>5.200000e+01</td>\n",
       "      <td>0.000000e+00</td>\n",
       "      <td>0.000000e+00</td>\n",
       "      <td>0.000000e+00</td>\n",
       "      <td>0.000000e+00</td>\n",
       "      <td>0.000000e+00</td>\n",
       "    </tr>\n",
       "    <tr>\n",
       "      <th>75%</th>\n",
       "      <td>6.153968e+06</td>\n",
       "      <td>4.033000e+01</td>\n",
       "      <td>-8.142400e+01</td>\n",
       "      <td>2.014000e+03</td>\n",
       "      <td>9.000000e+00</td>\n",
       "      <td>2.300000e+01</td>\n",
       "      <td>7.420000e+01</td>\n",
       "      <td>8.600000e+01</td>\n",
       "      <td>6.440000e+01</td>\n",
       "      <td>1.000000e+00</td>\n",
       "      <td>0.000000e+00</td>\n",
       "      <td>0.000000e+00</td>\n",
       "      <td>0.000000e+00</td>\n",
       "      <td>0.000000e+00</td>\n",
       "    </tr>\n",
       "    <tr>\n",
       "      <th>max</th>\n",
       "      <td>8.205290e+06</td>\n",
       "      <td>4.746700e+01</td>\n",
       "      <td>-7.192300e+01</td>\n",
       "      <td>2.019000e+03</td>\n",
       "      <td>1.200000e+01</td>\n",
       "      <td>3.100000e+01</td>\n",
       "      <td>1.100000e+02</td>\n",
       "      <td>9.999900e+03</td>\n",
       "      <td>9.999900e+03</td>\n",
       "      <td>1.000000e+00</td>\n",
       "      <td>1.000000e+00</td>\n",
       "      <td>1.000000e+00</td>\n",
       "      <td>1.000000e+00</td>\n",
       "      <td>1.000000e+00</td>\n",
       "    </tr>\n",
       "  </tbody>\n",
       "</table>\n",
       "</div>"
      ],
      "text/plain": [
       "         Unnamed: 0           lat           lon          year            mo  \\\n",
       "count  8.205291e+06  8.205291e+06  8.205291e+06  8.205291e+06  8.205291e+06   \n",
       "mean   4.102645e+06  3.584556e+01 -9.266935e+01  2.007174e+03  6.466509e+00   \n",
       "std    2.368664e+06  5.142237e+00  1.492755e+01  8.428364e+00  3.432474e+00   \n",
       "min    0.000000e+00  2.455500e+01 -1.242370e+02  1.990000e+03  1.000000e+00   \n",
       "25%    2.051322e+06  3.181100e+01 -9.921800e+01  2.001000e+03  3.000000e+00   \n",
       "50%    4.102645e+06  3.539000e+01 -8.731700e+01  2.009000e+03  6.000000e+00   \n",
       "75%    6.153968e+06  4.033000e+01 -8.142400e+01  2.014000e+03  9.000000e+00   \n",
       "max    8.205290e+06  4.746700e+01 -7.192300e+01  2.019000e+03  1.200000e+01   \n",
       "\n",
       "                 da          temp           max           min  rain_drizzle  \\\n",
       "count  8.205291e+06  8.205291e+06  8.205291e+06  8.205291e+06  8.205291e+06   \n",
       "mean   1.571847e+01  6.045276e+01  7.825339e+01  5.464965e+01  2.919176e-01   \n",
       "std    8.794953e+00  1.745844e+01  2.508801e+02  2.031281e+02  4.546446e-01   \n",
       "min    1.000000e+00 -4.920000e+01 -1.410000e+01 -4.310000e+01  0.000000e+00   \n",
       "25%    8.000000e+00  4.920000e+01  6.100000e+01  3.790000e+01  0.000000e+00   \n",
       "50%    1.600000e+01  6.290000e+01  7.500000e+01  5.200000e+01  0.000000e+00   \n",
       "75%    2.300000e+01  7.420000e+01  8.600000e+01  6.440000e+01  1.000000e+00   \n",
       "max    3.100000e+01  1.100000e+02  9.999900e+03  9.999900e+03  1.000000e+00   \n",
       "\n",
       "       snow_ice_pellets          hail       thunder  tornado_funnel_cloud  \n",
       "count      8.205291e+06  8.205291e+06  8.205291e+06          8.205291e+06  \n",
       "mean       5.505082e-02  7.112484e-04  8.095715e-02          3.082158e-04  \n",
       "std        2.280794e-01  2.665976e-02  2.727693e-01          1.755337e-02  \n",
       "min        0.000000e+00  0.000000e+00  0.000000e+00          0.000000e+00  \n",
       "25%        0.000000e+00  0.000000e+00  0.000000e+00          0.000000e+00  \n",
       "50%        0.000000e+00  0.000000e+00  0.000000e+00          0.000000e+00  \n",
       "75%        0.000000e+00  0.000000e+00  0.000000e+00          0.000000e+00  \n",
       "max        1.000000e+00  1.000000e+00  1.000000e+00          1.000000e+00  "
      ]
     },
     "execution_count": 6,
     "metadata": {},
     "output_type": "execute_result"
    }
   ],
   "source": [
    "weather_df.describe()"
   ]
  },
  {
   "cell_type": "code",
   "execution_count": null,
   "metadata": {},
   "outputs": [],
   "source": [
    "weather_df.columns"
   ]
  },
  {
   "cell_type": "code",
   "execution_count": null,
   "metadata": {},
   "outputs": [],
   "source": [
    "weather_df.count()"
   ]
  },
  {
   "cell_type": "code",
   "execution_count": null,
   "metadata": {},
   "outputs": [],
   "source": [
    "weather_df.head()"
   ]
  },
  {
   "cell_type": "code",
   "execution_count": null,
   "metadata": {},
   "outputs": [],
   "source": []
  },
  {
   "cell_type": "code",
   "execution_count": 7,
   "metadata": {},
   "outputs": [],
   "source": [
    "mo_data = weather_df[weather_df.state == 'MO']"
   ]
  },
  {
   "cell_type": "code",
   "execution_count": 8,
   "metadata": {},
   "outputs": [
    {
     "data": {
      "text/html": [
       "<div>\n",
       "<style scoped>\n",
       "    .dataframe tbody tr th:only-of-type {\n",
       "        vertical-align: middle;\n",
       "    }\n",
       "\n",
       "    .dataframe tbody tr th {\n",
       "        vertical-align: top;\n",
       "    }\n",
       "\n",
       "    .dataframe thead th {\n",
       "        text-align: right;\n",
       "    }\n",
       "</style>\n",
       "<table border=\"1\" class=\"dataframe\">\n",
       "  <thead>\n",
       "    <tr style=\"text-align: right;\">\n",
       "      <th></th>\n",
       "      <th>Unnamed: 0</th>\n",
       "      <th>name</th>\n",
       "      <th>state</th>\n",
       "      <th>lat</th>\n",
       "      <th>lon</th>\n",
       "      <th>year</th>\n",
       "      <th>mo</th>\n",
       "      <th>da</th>\n",
       "      <th>temp</th>\n",
       "      <th>max</th>\n",
       "      <th>min</th>\n",
       "      <th>rain_drizzle</th>\n",
       "      <th>snow_ice_pellets</th>\n",
       "      <th>hail</th>\n",
       "      <th>thunder</th>\n",
       "      <th>tornado_funnel_cloud</th>\n",
       "    </tr>\n",
       "  </thead>\n",
       "  <tbody>\n",
       "    <tr>\n",
       "      <th>2130</th>\n",
       "      <td>2130</td>\n",
       "      <td>ROLLA/VICHY AIRPORT</td>\n",
       "      <td>MO</td>\n",
       "      <td>38.131</td>\n",
       "      <td>-91.768</td>\n",
       "      <td>2004</td>\n",
       "      <td>12</td>\n",
       "      <td>8</td>\n",
       "      <td>45.0</td>\n",
       "      <td>9999.9</td>\n",
       "      <td>9999.9</td>\n",
       "      <td>0</td>\n",
       "      <td>0</td>\n",
       "      <td>0</td>\n",
       "      <td>0</td>\n",
       "      <td>0</td>\n",
       "    </tr>\n",
       "    <tr>\n",
       "      <th>2131</th>\n",
       "      <td>2131</td>\n",
       "      <td>VICHY ROLLA NATL ARPT</td>\n",
       "      <td>MO</td>\n",
       "      <td>38.131</td>\n",
       "      <td>-91.768</td>\n",
       "      <td>2004</td>\n",
       "      <td>12</td>\n",
       "      <td>8</td>\n",
       "      <td>45.0</td>\n",
       "      <td>9999.9</td>\n",
       "      <td>9999.9</td>\n",
       "      <td>0</td>\n",
       "      <td>0</td>\n",
       "      <td>0</td>\n",
       "      <td>0</td>\n",
       "      <td>0</td>\n",
       "    </tr>\n",
       "    <tr>\n",
       "      <th>2132</th>\n",
       "      <td>2132</td>\n",
       "      <td>ROLLA NATIONAL AIRPORT</td>\n",
       "      <td>MO</td>\n",
       "      <td>38.132</td>\n",
       "      <td>-91.765</td>\n",
       "      <td>2004</td>\n",
       "      <td>12</td>\n",
       "      <td>8</td>\n",
       "      <td>45.0</td>\n",
       "      <td>9999.9</td>\n",
       "      <td>9999.9</td>\n",
       "      <td>0</td>\n",
       "      <td>0</td>\n",
       "      <td>0</td>\n",
       "      <td>0</td>\n",
       "      <td>0</td>\n",
       "    </tr>\n",
       "    <tr>\n",
       "      <th>2549</th>\n",
       "      <td>2549</td>\n",
       "      <td>CAPE GIRARDEAU RGNL</td>\n",
       "      <td>MO</td>\n",
       "      <td>37.225</td>\n",
       "      <td>-89.571</td>\n",
       "      <td>2004</td>\n",
       "      <td>6</td>\n",
       "      <td>2</td>\n",
       "      <td>82.2</td>\n",
       "      <td>86.0</td>\n",
       "      <td>77.0</td>\n",
       "      <td>0</td>\n",
       "      <td>0</td>\n",
       "      <td>0</td>\n",
       "      <td>1</td>\n",
       "      <td>0</td>\n",
       "    </tr>\n",
       "    <tr>\n",
       "      <th>2550</th>\n",
       "      <td>2550</td>\n",
       "      <td>CAPE GIRARDEAU RGNL ARPT</td>\n",
       "      <td>MO</td>\n",
       "      <td>37.225</td>\n",
       "      <td>-89.571</td>\n",
       "      <td>2004</td>\n",
       "      <td>6</td>\n",
       "      <td>2</td>\n",
       "      <td>82.2</td>\n",
       "      <td>86.0</td>\n",
       "      <td>77.0</td>\n",
       "      <td>0</td>\n",
       "      <td>0</td>\n",
       "      <td>0</td>\n",
       "      <td>1</td>\n",
       "      <td>0</td>\n",
       "    </tr>\n",
       "  </tbody>\n",
       "</table>\n",
       "</div>"
      ],
      "text/plain": [
       "      Unnamed: 0                      name state     lat     lon  year  mo  \\\n",
       "2130        2130       ROLLA/VICHY AIRPORT    MO  38.131 -91.768  2004  12   \n",
       "2131        2131     VICHY ROLLA NATL ARPT    MO  38.131 -91.768  2004  12   \n",
       "2132        2132    ROLLA NATIONAL AIRPORT    MO  38.132 -91.765  2004  12   \n",
       "2549        2549       CAPE GIRARDEAU RGNL    MO  37.225 -89.571  2004   6   \n",
       "2550        2550  CAPE GIRARDEAU RGNL ARPT    MO  37.225 -89.571  2004   6   \n",
       "\n",
       "      da  temp     max     min  rain_drizzle  snow_ice_pellets  hail  thunder  \\\n",
       "2130   8  45.0  9999.9  9999.9             0                 0     0        0   \n",
       "2131   8  45.0  9999.9  9999.9             0                 0     0        0   \n",
       "2132   8  45.0  9999.9  9999.9             0                 0     0        0   \n",
       "2549   2  82.2    86.0    77.0             0                 0     0        1   \n",
       "2550   2  82.2    86.0    77.0             0                 0     0        1   \n",
       "\n",
       "      tornado_funnel_cloud  \n",
       "2130                     0  \n",
       "2131                     0  \n",
       "2132                     0  \n",
       "2549                     0  \n",
       "2550                     0  "
      ]
     },
     "execution_count": 8,
     "metadata": {},
     "output_type": "execute_result"
    }
   ],
   "source": [
    "mo_data.head()"
   ]
  },
  {
   "cell_type": "code",
   "execution_count": 9,
   "metadata": {},
   "outputs": [
    {
     "data": {
      "text/html": [
       "<div>\n",
       "<style scoped>\n",
       "    .dataframe tbody tr th:only-of-type {\n",
       "        vertical-align: middle;\n",
       "    }\n",
       "\n",
       "    .dataframe tbody tr th {\n",
       "        vertical-align: top;\n",
       "    }\n",
       "\n",
       "    .dataframe thead th {\n",
       "        text-align: right;\n",
       "    }\n",
       "</style>\n",
       "<table border=\"1\" class=\"dataframe\">\n",
       "  <thead>\n",
       "    <tr style=\"text-align: right;\">\n",
       "      <th></th>\n",
       "      <th>lat</th>\n",
       "      <th>lon</th>\n",
       "      <th>year</th>\n",
       "      <th>mo</th>\n",
       "      <th>da</th>\n",
       "      <th>temp</th>\n",
       "      <th>max</th>\n",
       "      <th>min</th>\n",
       "      <th>rain_drizzle</th>\n",
       "      <th>snow_ice_pellets</th>\n",
       "      <th>hail</th>\n",
       "      <th>thunder</th>\n",
       "      <th>tornado_funnel_cloud</th>\n",
       "    </tr>\n",
       "  </thead>\n",
       "  <tbody>\n",
       "    <tr>\n",
       "      <th>2130</th>\n",
       "      <td>38.131</td>\n",
       "      <td>-91.768</td>\n",
       "      <td>2004</td>\n",
       "      <td>12</td>\n",
       "      <td>8</td>\n",
       "      <td>45.0</td>\n",
       "      <td>9999.9</td>\n",
       "      <td>9999.9</td>\n",
       "      <td>0</td>\n",
       "      <td>0</td>\n",
       "      <td>0</td>\n",
       "      <td>0</td>\n",
       "      <td>0</td>\n",
       "    </tr>\n",
       "    <tr>\n",
       "      <th>2131</th>\n",
       "      <td>38.131</td>\n",
       "      <td>-91.768</td>\n",
       "      <td>2004</td>\n",
       "      <td>12</td>\n",
       "      <td>8</td>\n",
       "      <td>45.0</td>\n",
       "      <td>9999.9</td>\n",
       "      <td>9999.9</td>\n",
       "      <td>0</td>\n",
       "      <td>0</td>\n",
       "      <td>0</td>\n",
       "      <td>0</td>\n",
       "      <td>0</td>\n",
       "    </tr>\n",
       "    <tr>\n",
       "      <th>2132</th>\n",
       "      <td>38.132</td>\n",
       "      <td>-91.765</td>\n",
       "      <td>2004</td>\n",
       "      <td>12</td>\n",
       "      <td>8</td>\n",
       "      <td>45.0</td>\n",
       "      <td>9999.9</td>\n",
       "      <td>9999.9</td>\n",
       "      <td>0</td>\n",
       "      <td>0</td>\n",
       "      <td>0</td>\n",
       "      <td>0</td>\n",
       "      <td>0</td>\n",
       "    </tr>\n",
       "    <tr>\n",
       "      <th>2549</th>\n",
       "      <td>37.225</td>\n",
       "      <td>-89.571</td>\n",
       "      <td>2004</td>\n",
       "      <td>6</td>\n",
       "      <td>2</td>\n",
       "      <td>82.2</td>\n",
       "      <td>86.0</td>\n",
       "      <td>77.0</td>\n",
       "      <td>0</td>\n",
       "      <td>0</td>\n",
       "      <td>0</td>\n",
       "      <td>1</td>\n",
       "      <td>0</td>\n",
       "    </tr>\n",
       "    <tr>\n",
       "      <th>2550</th>\n",
       "      <td>37.225</td>\n",
       "      <td>-89.571</td>\n",
       "      <td>2004</td>\n",
       "      <td>6</td>\n",
       "      <td>2</td>\n",
       "      <td>82.2</td>\n",
       "      <td>86.0</td>\n",
       "      <td>77.0</td>\n",
       "      <td>0</td>\n",
       "      <td>0</td>\n",
       "      <td>0</td>\n",
       "      <td>1</td>\n",
       "      <td>0</td>\n",
       "    </tr>\n",
       "  </tbody>\n",
       "</table>\n",
       "</div>"
      ],
      "text/plain": [
       "         lat     lon  year  mo  da  temp     max     min  rain_drizzle  \\\n",
       "2130  38.131 -91.768  2004  12   8  45.0  9999.9  9999.9             0   \n",
       "2131  38.131 -91.768  2004  12   8  45.0  9999.9  9999.9             0   \n",
       "2132  38.132 -91.765  2004  12   8  45.0  9999.9  9999.9             0   \n",
       "2549  37.225 -89.571  2004   6   2  82.2    86.0    77.0             0   \n",
       "2550  37.225 -89.571  2004   6   2  82.2    86.0    77.0             0   \n",
       "\n",
       "      snow_ice_pellets  hail  thunder  tornado_funnel_cloud  \n",
       "2130                 0     0        0                     0  \n",
       "2131                 0     0        0                     0  \n",
       "2132                 0     0        0                     0  \n",
       "2549                 0     0        1                     0  \n",
       "2550                 0     0        1                     0  "
      ]
     },
     "execution_count": 9,
     "metadata": {},
     "output_type": "execute_result"
    }
   ],
   "source": [
    "mo_clean = mo_data.drop(columns = ['Unnamed: 0', 'name', 'state'])\n",
    "mo_clean.head()"
   ]
  },
  {
   "cell_type": "code",
   "execution_count": 10,
   "metadata": {},
   "outputs": [
    {
     "name": "stdout",
     "output_type": "stream",
     "text": [
      "(386403, 4) (386403,)\n"
     ]
    }
   ],
   "source": [
    "X = mo_clean.drop(columns=['temp','year',\n",
    "       'max', 'min', 'rain_drizzle', 'snow_ice_pellets', 'hail', 'thunder',\n",
    "       'tornado_funnel_cloud'],  axis=1)\n",
    "y = mo_clean[\"rain_drizzle\"]\n",
    "print(X.shape, y.shape)"
   ]
  },
  {
   "cell_type": "code",
   "execution_count": 11,
   "metadata": {},
   "outputs": [],
   "source": [
    "from sklearn.model_selection import train_test_split\n",
    "\n",
    "X_train, X_test, y_train, y_test = train_test_split(X, y, random_state=1, stratify=y)"
   ]
  },
  {
   "cell_type": "code",
   "execution_count": 12,
   "metadata": {},
   "outputs": [
    {
     "data": {
      "text/plain": [
       "LogisticRegression(C=1.0, class_weight=None, dual=False, fit_intercept=True,\n",
       "          intercept_scaling=1, max_iter=100, multi_class='warn',\n",
       "          n_jobs=None, penalty='l2', random_state=None, solver='warn',\n",
       "          tol=0.0001, verbose=0, warm_start=False)"
      ]
     },
     "execution_count": 12,
     "metadata": {},
     "output_type": "execute_result"
    }
   ],
   "source": [
    "from sklearn.linear_model import LogisticRegression\n",
    "classifier = LogisticRegression()\n",
    "classifier"
   ]
  },
  {
   "cell_type": "code",
   "execution_count": 13,
   "metadata": {},
   "outputs": [
    {
     "data": {
      "text/plain": [
       "LogisticRegression(C=1.0, class_weight=None, dual=False, fit_intercept=True,\n",
       "          intercept_scaling=1, max_iter=300, multi_class='ovr', n_jobs=1,\n",
       "          penalty='l2', random_state=None, solver='liblinear', tol=0.0001,\n",
       "          verbose=0, warm_start=False)"
      ]
     },
     "execution_count": 13,
     "metadata": {},
     "output_type": "execute_result"
    }
   ],
   "source": [
    "LogisticRegression(C=1.0, class_weight=None, dual=False, fit_intercept=True,\n",
    "          intercept_scaling=1, max_iter=300, multi_class='ovr', n_jobs=1,\n",
    "          penalty='l2', random_state=None, solver='liblinear', tol=0.0001,\n",
    "          verbose=0, warm_start=False)"
   ]
  },
  {
   "cell_type": "code",
   "execution_count": 14,
   "metadata": {},
   "outputs": [
    {
     "name": "stderr",
     "output_type": "stream",
     "text": [
      "C:\\Users\\abiel\\Anaconda3\\lib\\site-packages\\sklearn\\linear_model\\logistic.py:433: FutureWarning: Default solver will be changed to 'lbfgs' in 0.22. Specify a solver to silence this warning.\n",
      "  FutureWarning)\n"
     ]
    },
    {
     "data": {
      "text/plain": [
       "LogisticRegression(C=1.0, class_weight=None, dual=False, fit_intercept=True,\n",
       "          intercept_scaling=1, max_iter=100, multi_class='warn',\n",
       "          n_jobs=None, penalty='l2', random_state=None, solver='warn',\n",
       "          tol=0.0001, verbose=0, warm_start=False)"
      ]
     },
     "execution_count": 14,
     "metadata": {},
     "output_type": "execute_result"
    }
   ],
   "source": [
    "classifier.fit(X_train, y_train)"
   ]
  },
  {
   "cell_type": "code",
   "execution_count": 15,
   "metadata": {},
   "outputs": [
    {
     "data": {
      "text/plain": [
       "LogisticRegression(C=1.0, class_weight=None, dual=False, fit_intercept=True,\n",
       "          intercept_scaling=1, max_iter=500, multi_class='ovr', n_jobs=1,\n",
       "          penalty='l2', random_state=None, solver='liblinear', tol=0.0001,\n",
       "          verbose=0, warm_start=False)"
      ]
     },
     "execution_count": 15,
     "metadata": {},
     "output_type": "execute_result"
    }
   ],
   "source": [
    "LogisticRegression(C=1.0, class_weight=None, dual=False, fit_intercept=True,\n",
    "          intercept_scaling=1, max_iter=500, multi_class='ovr', n_jobs=1,\n",
    "          penalty='l2', random_state=None, solver='liblinear', tol=0.0001,\n",
    "          verbose=0, warm_start=False)"
   ]
  },
  {
   "cell_type": "code",
   "execution_count": 16,
   "metadata": {},
   "outputs": [
    {
     "name": "stdout",
     "output_type": "stream",
     "text": [
      "Training Data Score: 0.6931974244484165\n",
      "Testing Data Score: 0.6931915818676825\n"
     ]
    }
   ],
   "source": [
    "print(f\"Training Data Score: {classifier.score(X_train, y_train)}\")\n",
    "print(f\"Testing Data Score: {classifier.score(X_test, y_test)}\")"
   ]
  },
  {
   "cell_type": "code",
   "execution_count": 25,
   "metadata": {},
   "outputs": [
    {
     "name": "stdout",
     "output_type": "stream",
     "text": [
      "First 10 Predictions:   [0 0 0 0 0 0 0 0 0 0]\n",
      "First 10 Actual labels: [1, 0, 1, 0, 0, 0, 0, 0, 1, 1]\n"
     ]
    }
   ],
   "source": [
    "predictions = classifier.predict(X_test)\n",
    "print(f\"First 10 Predictions:   {predictions[:10]}\")\n",
    "print(f\"First 10 Actual labels: {y_test[:10].tolist()}\")"
   ]
  },
  {
   "cell_type": "code",
   "execution_count": 18,
   "metadata": {},
   "outputs": [
    {
     "data": {
      "text/html": [
       "<div>\n",
       "<style scoped>\n",
       "    .dataframe tbody tr th:only-of-type {\n",
       "        vertical-align: middle;\n",
       "    }\n",
       "\n",
       "    .dataframe tbody tr th {\n",
       "        vertical-align: top;\n",
       "    }\n",
       "\n",
       "    .dataframe thead th {\n",
       "        text-align: right;\n",
       "    }\n",
       "</style>\n",
       "<table border=\"1\" class=\"dataframe\">\n",
       "  <thead>\n",
       "    <tr style=\"text-align: right;\">\n",
       "      <th></th>\n",
       "      <th>lat</th>\n",
       "      <th>lon</th>\n",
       "      <th>mo</th>\n",
       "      <th>da</th>\n",
       "    </tr>\n",
       "  </thead>\n",
       "  <tbody>\n",
       "    <tr>\n",
       "      <th>5955221</th>\n",
       "      <td>39.297</td>\n",
       "      <td>-94.731</td>\n",
       "      <td>8</td>\n",
       "      <td>17</td>\n",
       "    </tr>\n",
       "  </tbody>\n",
       "</table>\n",
       "</div>"
      ],
      "text/plain": [
       "            lat     lon  mo  da\n",
       "5955221  39.297 -94.731   8  17"
      ]
     },
     "execution_count": 18,
     "metadata": {},
     "output_type": "execute_result"
    }
   ],
   "source": [
    "X_test[:1]"
   ]
  },
  {
   "cell_type": "code",
   "execution_count": 19,
   "metadata": {},
   "outputs": [],
   "source": [
    "data = [[39.297, -94.731, 4, 15]]"
   ]
  },
  {
   "cell_type": "code",
   "execution_count": 53,
   "metadata": {},
   "outputs": [
    {
     "data": {
      "text/html": [
       "<div>\n",
       "<style scoped>\n",
       "    .dataframe tbody tr th:only-of-type {\n",
       "        vertical-align: middle;\n",
       "    }\n",
       "\n",
       "    .dataframe tbody tr th {\n",
       "        vertical-align: top;\n",
       "    }\n",
       "\n",
       "    .dataframe thead th {\n",
       "        text-align: right;\n",
       "    }\n",
       "</style>\n",
       "<table border=\"1\" class=\"dataframe\">\n",
       "  <thead>\n",
       "    <tr style=\"text-align: right;\">\n",
       "      <th></th>\n",
       "      <th>lat</th>\n",
       "      <th>lon</th>\n",
       "      <th>mo</th>\n",
       "      <th>da</th>\n",
       "    </tr>\n",
       "  </thead>\n",
       "  <tbody>\n",
       "    <tr>\n",
       "      <th>0</th>\n",
       "      <td>39.297</td>\n",
       "      <td>-94.731</td>\n",
       "      <td>4</td>\n",
       "      <td>15</td>\n",
       "    </tr>\n",
       "  </tbody>\n",
       "</table>\n",
       "</div>"
      ],
      "text/plain": [
       "      lat     lon  mo  da\n",
       "0  39.297 -94.731   4  15"
      ]
     },
     "execution_count": 53,
     "metadata": {},
     "output_type": "execute_result"
    }
   ],
   "source": [
    "df = pd.DataFrame(data, columns = ['lat', 'lon', 'mo', 'da']) \n",
    "df.head()"
   ]
  },
  {
   "cell_type": "code",
   "execution_count": 54,
   "metadata": {},
   "outputs": [
    {
     "name": "stdout",
     "output_type": "stream",
     "text": [
      "Month: 4, Day: 15 Prediction:   0\n"
     ]
    }
   ],
   "source": [
    "predictions = classifier.predict(df)\n",
    "print(f\"Month: {df.mo[0]}, Day: {df.da[0]} Prediction:   {predictions[0]}\")\n"
   ]
  },
  {
   "cell_type": "code",
   "execution_count": 58,
   "metadata": {},
   "outputs": [],
   "source": [
    "from sklearn.metrics import classification_report\n"
   ]
  },
  {
   "cell_type": "code",
   "execution_count": 59,
   "metadata": {},
   "outputs": [],
   "source": [
    "from tensorflow.keras.models import Sequential\n",
    "from tensorflow.keras.layers import Dense"
   ]
  },
  {
   "cell_type": "code",
   "execution_count": 173,
   "metadata": {},
   "outputs": [],
   "source": []
  },
  {
   "cell_type": "code",
   "execution_count": 60,
   "metadata": {},
   "outputs": [
    {
     "ename": "AttributeError",
     "evalue": "'numpy.ndarray' object has no attribute 'save'",
     "output_type": "error",
     "traceback": [
      "\u001b[1;31m---------------------------------------------------------------------------\u001b[0m",
      "\u001b[1;31mAttributeError\u001b[0m                            Traceback (most recent call last)",
      "\u001b[1;32m<ipython-input-60-ff22a2a841bb>\u001b[0m in \u001b[0;36m<module>\u001b[1;34m\u001b[0m\n\u001b[1;32m----> 1\u001b[1;33m \u001b[0mpredictions\u001b[0m\u001b[1;33m.\u001b[0m\u001b[0msave\u001b[0m\u001b[1;33m(\u001b[0m\u001b[1;34m\"rainpredictor.h5\"\u001b[0m\u001b[1;33m)\u001b[0m\u001b[1;33m\u001b[0m\u001b[1;33m\u001b[0m\u001b[0m\n\u001b[0m",
      "\u001b[1;31mAttributeError\u001b[0m: 'numpy.ndarray' object has no attribute 'save'"
     ]
    }
   ],
   "source": [
    "predictions.save(\"rainpredictor.h5\")"
   ]
  }
 ],
 "metadata": {
  "kernelspec": {
   "display_name": "Python 3",
   "language": "python",
   "name": "python3"
  },
  "language_info": {
   "codemirror_mode": {
    "name": "ipython",
    "version": 3
   },
   "file_extension": ".py",
   "mimetype": "text/x-python",
   "name": "python",
   "nbconvert_exporter": "python",
   "pygments_lexer": "ipython3",
   "version": "3.7.3"
  }
 },
 "nbformat": 4,
 "nbformat_minor": 2
}
